{
 "cells": [
  {
   "cell_type": "code",
   "execution_count": 48,
   "metadata": {},
   "outputs": [],
   "source": [
    "import numpy as np\n",
    "import math\n",
    "import matplotlib.pyplot as plt"
   ]
  },
  {
   "cell_type": "markdown",
   "metadata": {},
   "source": [
    "### Write a program that takes two pairs of integers of form A(x1,y1), B(x2,y2) and an integer N. The program should create a list/array of N points between A and B, excluding both of these. And return this array/list of 100 points."
   ]
  },
  {
   "cell_type": "markdown",
   "metadata": {},
   "source": [
    "#### Method 1 "
   ]
  },
  {
   "cell_type": "code",
   "execution_count": 7,
   "metadata": {},
   "outputs": [],
   "source": [
    "# drawing a line between two points and return N evenly spaced points from the line\n",
    "def ReturnNPointsfromline(A:tuple, B:tuple, N:int):\n",
    "    '''\n",
    "    takes input points A and B as a tuple with respective coordinates \n",
    "    and N : number of points to be returned \n",
    "    returns list of 100 points between input points which lie on the line\n",
    "    '''\n",
    "    # Numpy linespace : return the points on the line between two points \n",
    "    Line_Space = np.linspace(A, B, N+1, endpoint=False) # endpoints = False excludes the endpoint\n",
    "    # Exclude first point\n",
    "    Line_Space = Line_Space[1:]\n",
    "    # Create List of tuples \n",
    "    list_of_tuple_points = [tuple(point_list) for point_list in Line_Space]\n",
    "    return list_of_tuple_points"
   ]
  },
  {
   "cell_type": "code",
   "execution_count": 5,
   "metadata": {},
   "outputs": [
    {
     "data": {
      "text/plain": [
       "100"
      ]
     },
     "metadata": {},
     "output_type": "display_data"
    },
    {
     "data": {
      "text/plain": [
       "[(1.0891089108910892, 2.1782178217821784),\n",
       " (1.1782178217821782, 2.3564356435643563),\n",
       " (1.2673267326732673, 2.5346534653465347),\n",
       " (1.3564356435643563, 2.7128712871287126),\n",
       " (1.4455445544554455, 2.891089108910891),\n",
       " (1.5346534653465347, 3.0693069306930694),\n",
       " (1.6237623762376239, 3.2475247524752477),\n",
       " (1.7128712871287128, 3.4257425742574257),\n",
       " (1.8019801980198018, 3.6039603960396036),\n",
       " (1.891089108910891, 3.782178217821782),\n",
       " (1.9801980198019802, 3.9603960396039604),\n",
       " (2.0693069306930694, 4.138613861386139),\n",
       " (2.1584158415841586, 4.316831683168317),\n",
       " (2.2475247524752477, 4.4950495049504955),\n",
       " (2.3366336633663365, 4.673267326732673),\n",
       " (2.4257425742574257, 4.851485148514851),\n",
       " (2.514851485148515, 5.02970297029703),\n",
       " (2.6039603960396036, 5.207920792079207),\n",
       " (2.693069306930693, 5.386138613861386),\n",
       " (2.782178217821782, 5.564356435643564),\n",
       " (2.871287128712871, 5.742574257425742),\n",
       " (2.9603960396039604, 5.920792079207921),\n",
       " (3.0495049504950495, 6.099009900990099),\n",
       " (3.1386138613861387, 6.2772277227722775),\n",
       " (3.2277227722772275, 6.455445544554455),\n",
       " (3.3168316831683167, 6.633663366336633),\n",
       " (3.405940594059406, 6.811881188118812),\n",
       " (3.495049504950495, 6.99009900990099),\n",
       " (3.5841584158415842, 7.1683168316831685),\n",
       " (3.673267326732673, 7.346534653465346),\n",
       " (3.762376237623762, 7.524752475247524),\n",
       " (3.8514851485148514, 7.702970297029703),\n",
       " (3.9405940594059405, 7.881188118811881),\n",
       " (4.02970297029703, 8.05940594059406),\n",
       " (4.118811881188119, 8.237623762376238),\n",
       " (4.207920792079207, 8.415841584158414),\n",
       " (4.297029702970297, 8.594059405940595),\n",
       " (4.386138613861386, 8.772277227722771),\n",
       " (4.475247524752476, 8.950495049504951),\n",
       " (4.564356435643564, 9.128712871287128),\n",
       " (4.653465346534653, 9.306930693069306),\n",
       " (4.742574257425742, 9.485148514851485),\n",
       " (4.8316831683168315, 9.663366336633663),\n",
       " (4.920792079207921, 9.841584158415841),\n",
       " (5.00990099009901, 10.01980198019802),\n",
       " (5.099009900990099, 10.198019801980198),\n",
       " (5.188118811881188, 10.376237623762377),\n",
       " (5.2772277227722775, 10.554455445544555),\n",
       " (5.366336633663366, 10.732673267326732),\n",
       " (5.455445544554455, 10.91089108910891),\n",
       " (5.544554455445544, 11.089108910891088),\n",
       " (5.633663366336633, 11.267326732673267),\n",
       " (5.7227722772277225, 11.445544554455445),\n",
       " (5.811881188118812, 11.623762376237623),\n",
       " (5.900990099009901, 11.801980198019802),\n",
       " (5.99009900990099, 11.98019801980198),\n",
       " (6.079207920792079, 12.158415841584159),\n",
       " (6.1683168316831685, 12.336633663366337),\n",
       " (6.257425742574257, 12.514851485148514),\n",
       " (6.346534653465346, 12.693069306930692),\n",
       " (6.435643564356435, 12.87128712871287),\n",
       " (6.524752475247524, 13.049504950495049),\n",
       " (6.6138613861386135, 13.227722772277227),\n",
       " (6.702970297029703, 13.405940594059405),\n",
       " (6.792079207920792, 13.584158415841584),\n",
       " (6.881188118811881, 13.762376237623762),\n",
       " (6.97029702970297, 13.94059405940594),\n",
       " (7.0594059405940595, 14.118811881188119),\n",
       " (7.148514851485149, 14.297029702970297),\n",
       " (7.237623762376237, 14.475247524752474),\n",
       " (7.326732673267326, 14.653465346534652),\n",
       " (7.415841584158415, 14.83168316831683),\n",
       " (7.5049504950495045, 15.009900990099009),\n",
       " (7.594059405940594, 15.188118811881187),\n",
       " (7.683168316831683, 15.366336633663366),\n",
       " (7.772277227722772, 15.544554455445544),\n",
       " (7.861386138613861, 15.722772277227723),\n",
       " (7.9504950495049505, 15.900990099009901),\n",
       " (8.03960396039604, 16.07920792079208),\n",
       " (8.128712871287128, 16.257425742574256),\n",
       " (8.217821782178216, 16.435643564356432),\n",
       " (8.306930693069306, 16.613861386138613),\n",
       " (8.396039603960396, 16.792079207920793),\n",
       " (8.485148514851485, 16.97029702970297),\n",
       " (8.574257425742573, 17.148514851485146),\n",
       " (8.663366336633663, 17.326732673267326),\n",
       " (8.752475247524753, 17.504950495049506),\n",
       " (8.841584158415841, 17.683168316831683),\n",
       " (8.93069306930693, 17.86138613861386),\n",
       " (9.01980198019802, 18.03960396039604),\n",
       " (9.108910891089108, 18.217821782178216),\n",
       " (9.198019801980198, 18.396039603960396),\n",
       " (9.287128712871286, 18.574257425742573),\n",
       " (9.376237623762377, 18.752475247524753),\n",
       " (9.465346534653465, 18.93069306930693),\n",
       " (9.554455445544555, 19.10891089108911),\n",
       " (9.643564356435643, 19.287128712871286),\n",
       " (9.732673267326732, 19.465346534653463),\n",
       " (9.821782178217822, 19.643564356435643),\n",
       " (9.91089108910891, 19.82178217821782)]"
      ]
     },
     "metadata": {},
     "output_type": "display_data"
    }
   ],
   "source": [
    "points = ReturnNPointsfromline((1,2),(10,20),100)\n",
    "display(len(points))\n",
    "display(points)\n"
   ]
  },
  {
   "cell_type": "markdown",
   "metadata": {},
   "source": [
    "#### Method 2 : Create grid between the to points and return the 100 points from the grid"
   ]
  },
  {
   "cell_type": "code",
   "execution_count": 50,
   "metadata": {},
   "outputs": [
    {
     "data": {
      "image/png": "[encoded data removed]",
      "text/plain": [
       "<Figure size 432x288 with 1 Axes>"
      ]
     },
     "metadata": {
      "needs_background": "light"
     },
     "output_type": "display_data"
    }
   ],
   "source": [
    "N_sqrt = int(math.sqrt(100))\n",
    "X = np.linspace(1, 10, N_sqrt+1)[1:]\n",
    "Y = np.linspace(2, 20, N_sqrt+1)[1:]\n",
    "x,y = np.meshgrid(X, Y)\n",
    "fig = plt.figure()\n",
    "ax = fig.add_subplot(111)\n",
    "ax.plot(x, y, ls=\"None\", marker=\".\")\n",
    "plt.show()"
   ]
  },
  {
   "cell_type": "code",
   "execution_count": 41,
   "metadata": {},
   "outputs": [],
   "source": [
    "# create grid between the to points and return the 100 points from the grid\n",
    "def ReturnNPointsfromGrid(A:tuple, B:tuple, N:int):\n",
    "    \"\"\"\n",
    "    takes input points A and B as a tuple with respective coordinates \n",
    "    and N : number of points to be returned \n",
    "    returns list of 100 points between input points from the grid in between\n",
    "    \"\"\"\n",
    "    N_sqrt = int(math.sqrt(N))\n",
    "    X = np.linspace(A[0], B[0], N_sqrt+1)[1:]\n",
    "    Y = np.linspace(A[1], B[1], N_sqrt+1)[1:]\n",
    "    x,y = np.meshgrid(X, Y)\n",
    "    return list(zip(x.flatten(),y.flatten()))[:N]\n",
    "    "
   ]
  },
  {
   "cell_type": "code",
   "execution_count": 43,
   "metadata": {},
   "outputs": [
    {
     "data": {
      "text/plain": [
       "100"
      ]
     },
     "metadata": {},
     "output_type": "display_data"
    },
    {
     "data": {
      "text/plain": [
       "[(1.9, 3.8),\n",
       " (2.8, 3.8),\n",
       " (3.7, 3.8),\n",
       " (4.6, 3.8),\n",
       " (5.5, 3.8),\n",
       " (6.4, 3.8),\n",
       " (7.3, 3.8),\n",
       " (8.2, 3.8),\n",
       " (9.1, 3.8),\n",
       " (10.0, 3.8),\n",
       " (1.9, 5.6),\n",
       " (2.8, 5.6),\n",
       " (3.7, 5.6),\n",
       " (4.6, 5.6),\n",
       " (5.5, 5.6),\n",
       " (6.4, 5.6),\n",
       " (7.3, 5.6),\n",
       " (8.2, 5.6),\n",
       " (9.1, 5.6),\n",
       " (10.0, 5.6),\n",
       " (1.9, 7.4),\n",
       " (2.8, 7.4),\n",
       " (3.7, 7.4),\n",
       " (4.6, 7.4),\n",
       " (5.5, 7.4),\n",
       " (6.4, 7.4),\n",
       " (7.3, 7.4),\n",
       " (8.2, 7.4),\n",
       " (9.1, 7.4),\n",
       " (10.0, 7.4),\n",
       " (1.9, 9.2),\n",
       " (2.8, 9.2),\n",
       " (3.7, 9.2),\n",
       " (4.6, 9.2),\n",
       " (5.5, 9.2),\n",
       " (6.4, 9.2),\n",
       " (7.3, 9.2),\n",
       " (8.2, 9.2),\n",
       " (9.1, 9.2),\n",
       " (10.0, 9.2),\n",
       " (1.9, 11.0),\n",
       " (2.8, 11.0),\n",
       " (3.7, 11.0),\n",
       " (4.6, 11.0),\n",
       " (5.5, 11.0),\n",
       " (6.4, 11.0),\n",
       " (7.3, 11.0),\n",
       " (8.2, 11.0),\n",
       " (9.1, 11.0),\n",
       " (10.0, 11.0),\n",
       " (1.9, 12.8),\n",
       " (2.8, 12.8),\n",
       " (3.7, 12.8),\n",
       " (4.6, 12.8),\n",
       " (5.5, 12.8),\n",
       " (6.4, 12.8),\n",
       " (7.3, 12.8),\n",
       " (8.2, 12.8),\n",
       " (9.1, 12.8),\n",
       " (10.0, 12.8),\n",
       " (1.9, 14.6),\n",
       " (2.8, 14.6),\n",
       " (3.7, 14.6),\n",
       " (4.6, 14.6),\n",
       " (5.5, 14.6),\n",
       " (6.4, 14.6),\n",
       " (7.3, 14.6),\n",
       " (8.2, 14.6),\n",
       " (9.1, 14.6),\n",
       " (10.0, 14.6),\n",
       " (1.9, 16.4),\n",
       " (2.8, 16.4),\n",
       " (3.7, 16.4),\n",
       " (4.6, 16.4),\n",
       " (5.5, 16.4),\n",
       " (6.4, 16.4),\n",
       " (7.3, 16.4),\n",
       " (8.2, 16.4),\n",
       " (9.1, 16.4),\n",
       " (10.0, 16.4),\n",
       " (1.9, 18.2),\n",
       " (2.8, 18.2),\n",
       " (3.7, 18.2),\n",
       " (4.6, 18.2),\n",
       " (5.5, 18.2),\n",
       " (6.4, 18.2),\n",
       " (7.3, 18.2),\n",
       " (8.2, 18.2),\n",
       " (9.1, 18.2),\n",
       " (10.0, 18.2),\n",
       " (1.9, 20.0),\n",
       " (2.8, 20.0),\n",
       " (3.7, 20.0),\n",
       " (4.6, 20.0),\n",
       " (5.5, 20.0),\n",
       " (6.4, 20.0),\n",
       " (7.3, 20.0),\n",
       " (8.2, 20.0),\n",
       " (9.1, 20.0),\n",
       " (10.0, 20.0)]"
      ]
     },
     "metadata": {},
     "output_type": "display_data"
    }
   ],
   "source": [
    "points = ReturnNPointsfromGrid((1,2),(10,20),100)\n",
    "display(len(points))\n",
    "display(points)"
   ]
  },
  {
   "cell_type": "code",
   "execution_count": null,
   "metadata": {},
   "outputs": [],
   "source": []
  }
 ],
 "metadata": {
  "kernelspec": {
   "display_name": "Python 3.10.5 64-bit",
   "language": "python",
   "name": "python3"
  },
  "language_info": {
   "codemirror_mode": {
    "name": "ipython",
    "version": 3
   },
   "file_extension": ".py",
   "mimetype": "text/x-python",
   "name": "python",
   "nbconvert_exporter": "python",
   "pygments_lexer": "ipython3",
   "version": "3.10.8"
  },
  "orig_nbformat": 4,
  "vscode": {
   "interpreter": {
    "hash": "0042725d9b577b9fd8b8cf26b53cfcfff2105539fa4dc668e3b35bc21abdfb45"
   }
  }
 },
 "nbformat": 4,
 "nbformat_minor": 2
}
