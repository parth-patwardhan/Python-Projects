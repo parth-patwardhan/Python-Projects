{
 "cells": [
  {
   "cell_type": "code",
   "execution_count": 1,
   "metadata": {},
   "outputs": [],
   "source": [
    "import numpy as np\n",
    "import pandas as pd"
   ]
  },
  {
   "cell_type": "markdown",
   "metadata": {},
   "source": [
    "\n",
    "### Write a Program to check if a number is a prime number or not."
   ]
  },
  {
   "cell_type": "code",
   "execution_count": 49,
   "metadata": {},
   "outputs": [],
   "source": [
    "def isPrimeNumber(number:int):\n",
    "    \"\"\"\n",
    "    takes integer input as a number \n",
    "    returns True if it is a prime number else returns False \n",
    "    \"\"\"\n",
    "    search_space = list(range(2,number))\n",
    "    while len(search_space) != 0:\n",
    "        if number % search_space[0] == 0:\n",
    "            return False\n",
    "        else:\n",
    "            if search_space[0]**2 in search_space:\n",
    "                i = 1\n",
    "                while search_space[0]**i in search_space:\n",
    "                    search_space.remove(search_space[0]**i)\n",
    "                    i += 1\n",
    "            else:\n",
    "                search_space.remove(search_space[0])\n",
    "                \n",
    "    return True\n"
   ]
  },
  {
   "cell_type": "code",
   "execution_count": 52,
   "metadata": {},
   "outputs": [
    {
     "data": {
      "text/plain": [
       "True"
      ]
     },
     "execution_count": 52,
     "metadata": {},
     "output_type": "execute_result"
    }
   ],
   "source": [
    "isPrimeNumber(23)"
   ]
  },
  {
   "cell_type": "code",
   "execution_count": null,
   "metadata": {},
   "outputs": [],
   "source": []
  }
 ],
 "metadata": {
  "kernelspec": {
   "display_name": "Python 3.10.5 64-bit",
   "language": "python",
   "name": "python3"
  },
  "language_info": {
   "codemirror_mode": {
    "name": "ipython",
    "version": 3
   },
   "file_extension": ".py",
   "mimetype": "text/x-python",
   "name": "python",
   "nbconvert_exporter": "python",
   "pygments_lexer": "ipython3",
   "version": "3.10.5"
  },
  "orig_nbformat": 4,
  "vscode": {
   "interpreter": {
    "hash": "0042725d9b577b9fd8b8cf26b53cfcfff2105539fa4dc668e3b35bc21abdfb45"
   }
  }
 },
 "nbformat": 4,
 "nbformat_minor": 2
}
